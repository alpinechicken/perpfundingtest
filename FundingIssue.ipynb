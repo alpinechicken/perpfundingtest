{
 "cells": [
  {
   "cell_type": "code",
   "execution_count": 86,
   "metadata": {},
   "outputs": [],
   "source": [
    "import numpy as np\n",
    "import matplotlib.pyplot as plt\n",
    "%matplotlib inline\n",
    "import seaborn as sbn\n",
    "import pandas as pd\n",
    "from matplotlib.pyplot import figure\n",
    "from itertools import cycle, islice\n",
    "from power_perp import everlasting_power_perp_price, power_perp_price\n"
   ]
  },
  {
   "cell_type": "code",
   "execution_count": 50,
   "metadata": {},
   "outputs": [],
   "source": [
    "def liteGBM(S0, mu, sigma, T, dt=1):\n",
    "    N = round(T/dt)\n",
    "    t = np.linspace(0, T, N)\n",
    "    W = np.random.standard_normal(size = N) \n",
    "    W = np.cumsum(W)*np.sqrt(dt)\n",
    "    S =  S0*np.exp((mu-0.5*sigma**2)*t + sigma*W)\n",
    "    return np.insert(S,0,S0)"
   ]
  },
  {
   "cell_type": "code",
   "execution_count": 149,
   "metadata": {},
   "outputs": [
    {
     "data": {
      "text/plain": [
       "<matplotlib.axes._subplots.AxesSubplot at 0x14bc26810>"
      ]
     },
     "execution_count": 149,
     "metadata": {},
     "output_type": "execute_result"
    },
    {
     "data": {
      "image/png": "[encoded data removed]",
      "text/plain": [
       "<Figure size 432x288 with 1 Axes>"
      ]
     },
     "metadata": {
      "needs_background": "light"
     },
     "output_type": "display_data"
    }
   ],
   "source": [
    "# One sim\n",
    "S = liteGBM(S0 = 100, mu = 0, sigma = 0.2, T =1, dt = 1/365)\n",
    "sbn.lineplot(data=S)"
   ]
  },
  {
   "cell_type": "code",
   "execution_count": 55,
   "metadata": {},
   "outputs": [],
   "source": [
    "# Set up params\n",
    "spot = 100\n",
    "vol = 0.8\n",
    "drift = 0\n",
    "funding_period = 1/365\n",
    "power = 2"
   ]
  },
  {
   "cell_type": "code",
   "execution_count": 87,
   "metadata": {},
   "outputs": [
    {
     "data": {
      "text/plain": [
       "10017.549628054265"
      ]
     },
     "execution_count": 87,
     "metadata": {},
     "output_type": "execute_result"
    }
   ],
   "source": [
    "# Power perp pricing\n",
    "power_perp_price(spot, funding_period, vol, drift, power)"
   ]
  },
  {
   "cell_type": "code",
   "execution_count": 56,
   "metadata": {},
   "outputs": [
    {
     "data": {
      "text/plain": [
       "10035.16096228955"
      ]
     },
     "execution_count": 56,
     "metadata": {},
     "output_type": "execute_result"
    }
   ],
   "source": [
    "# Everlasting power perp pricing\n",
    "everlasting_power_perp_price(spot, funding_period, vol, drift, power)"
   ]
  },
  {
   "cell_type": "code",
   "execution_count": 166,
   "metadata": {},
   "outputs": [],
   "source": [
    "# Simulator for total pnl\n",
    "def simPerp(S0, mu, sigma, numPeriods, fundingPeriod, Minf): # Minf is the pricing function\n",
    "    # GBM path\n",
    "    S = liteGBM(S0=S0, mu = mu, sigma=sigma, T = numPeriods* fundingPeriod, dt = fundingPeriod)\n",
    "    # Funding path (Mark - Index)\n",
    "    d = [Minf(s)-s**2 for s in S[1:]]\n",
    "    # Total cash for long power perp (cost - funding + sale) \n",
    "    return -Minf(S0) - np.sum(d) + Minf(S[-1])"
   ]
  },
  {
   "cell_type": "code",
   "execution_count": 168,
   "metadata": {},
   "outputs": [
    {
     "data": {
      "text/plain": [
       "-9701.953040158382"
      ]
     },
     "execution_count": 168,
     "metadata": {},
     "output_type": "execute_result"
    }
   ],
   "source": [
    "# Use everlasting pp \n",
    "Minf = lambda spot: everlasting_power_perp_price(spot, funding_period, vol, drift, power)\n",
    "tmp =[simPerp(100, 0, 0.8, 365, 1/365, Minf) for _ in range(10000)]\n",
    "np.mean(tmp)"
   ]
  },
  {
   "cell_type": "code",
   "execution_count": 169,
   "metadata": {},
   "outputs": [
    {
     "data": {
      "text/plain": [
       "234.22773064035405"
      ]
     },
     "execution_count": 169,
     "metadata": {},
     "output_type": "execute_result"
    }
   ],
   "source": [
    "# Use expiring pp \n",
    "Minf = lambda spot: power_perp_price(spot, funding_period, vol, drift, power)\n",
    "tmp =[simPerp(100, 0, 0.8, 365, 1/365, Minf) for _ in range(10000)]\n",
    "np.mean(tmp)"
   ]
  },
  {
   "cell_type": "markdown",
   "metadata": {},
   "source": [
    "So this means that if we use `everlasting_power_perp_price` in the sims we get a persistent return (~-10k over the year) when we simulate the pnl from holding a position and paying `Mark - Index` on gbm paths. If we use `power_perp_price` the expected return is zero as we would expect. "
   ]
  },
  {
   "cell_type": "code",
   "execution_count": null,
   "metadata": {},
   "outputs": [],
   "source": []
  }
 ],
 "metadata": {
  "kernelspec": {
   "display_name": "Python 3",
   "language": "python",
   "name": "python3"
  },
  "language_info": {
   "codemirror_mode": {
    "name": "ipython",
    "version": 3
   },
   "file_extension": ".py",
   "mimetype": "text/x-python",
   "name": "python",
   "nbconvert_exporter": "python",
   "pygments_lexer": "ipython3",
   "version": "3.7.6"
  }
 },
 "nbformat": 4,
 "nbformat_minor": 4
}
